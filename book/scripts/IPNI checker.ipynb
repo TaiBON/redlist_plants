{
 "cells": [
  {
   "cell_type": "code",
   "execution_count": 1,
   "metadata": {
    "collapsed": true
   },
   "outputs": [],
   "source": [
    "## IPNI checker\n",
    "import psycopg2 as pg\n",
    "import genlist_api\n",
    "import re\n",
    "import csv\n",
    "g = genlist_api.Genlist()\n",
    "# postgresql database name\n",
    "DSN = 'dbname=nvdimp user=psilotum'\n",
    "conn = pg.connect(DSN)"
   ]
  },
  {
   "cell_type": "code",
   "execution_count": 9,
   "metadata": {
    "collapsed": true
   },
   "outputs": [],
   "source": [
    "df = []\n",
    "with open('../../workspace/for_ipni.csv', 'r') as f:\n",
    "    csvreader = csv.reader(f, delimiter='\\t', quotechar='\"')\n",
    "    for row in csvreader:\n",
    "        df.append(row)"
   ]
  },
  {
   "cell_type": "code",
   "execution_count": 36,
   "metadata": {},
   "outputs": [
    {
     "name": "stdout",
     "output_type": "stream",
     "text": [
      "['4687', 'Veronicastrum loshanense', 'urn:lsid:ipni.org:names:77093130-1', 'Veronicastrum loshanense Tien T.Chen & F.S.Chou']\n",
      "['5161', 'Viola nagasawai', 'urn:lsid:ipni.org:names:868748-1', 'Viola nagasawai Makino & Hayata']\n",
      "['4532', 'Zanthoxylum integrifoliolum', 'urn:lsid:ipni.org:names:775789-1', 'Zanthoxylum integrifoliolum Merr.']\n",
      "['5232', 'Zingiber kawagoii', 'urn:lsid:ipni.org:names:873051-1', 'Zingiber kawagoii Hayata']\n",
      "['74', 'Adiantum ciliatum', 'urn:lsid:ipni.org:names:17009400-1', 'Adiantum ciliatum Blume']\n",
      "['4004', 'Arthromeris lehmanni', 'urn:lsid:ipni.org:names:17365720-1', 'Arthromeris lehmannii Ching']\n",
      "['410', 'Athyrium palustre', 'urn:lsid:ipni.org:names:17430340-1', 'Athyrium palustre Seriz.']\n",
      "['832', 'Blumea hieracifolia', 'urn:lsid:ipni.org:names:55227-3', 'Blumea hieracifolia  var. holosericea (DC.) Benth.']\n",
      "['1781', 'Castanopsis fabri', 'urn:lsid:ipni.org:names:295390-1', 'Castanopsis fabri Hance']\n",
      "['731', 'Chenopodium formosanum', 'urn:lsid:ipni.org:names:164939-1', 'Chenopodium formosanum Koidz.']\n",
      "['736', 'Chloranthus oldhami', 'urn:lsid:ipni.org:names:167817-1', 'Chloranthus oldhami Solms']\n",
      "['2543', 'Cinnamomum insulari-montanum', 'urn:lsid:ipni.org:names:463470-1', 'Cinnamomum insulari-montanum Hayata']\n",
      "['5125', 'Clerodendrum ohwi', 'urn:lsid:ipni.org:names:862289-1', 'Clerodendrum ohwii Kaneh. & Hatus.']\n",
      "['427', 'Cornopteris philippinensis', 'urn:lsid:ipni.org:names:17551540-1', 'Cornopteris philippinensis M.Kato']\n",
      "['2369', 'Crepidomanes grande', 'urn:lsid:ipni.org:names:60447931-2', 'Crepidomanes grande (Copel.) Ebihara & K.Iwats.']\n",
      "['4891', 'Cyclosorus ferox', 'urn:lsid:ipni.org:names:17384520-1', 'Cyclosorus ferox (Blume) Ching']\n",
      "['465', 'Diplazium petri', 'urn:lsid:ipni.org:names:17321890-1', 'Diplazium petri Tardieu-Blot']\n",
      "['1486', 'Drosera spathulata', 'urn:lsid:ipni.org:names:51481-3', 'Drosera spathulata Schult.']\n",
      "['1524', 'Dryopteris hendersoni', 'urn:lsid:ipni.org:names:17095840-1', 'Dryopteris hendersonii (Bedd.) C.Chr.']\n",
      "['906', 'Eupatorium kiirunense', 'urn:lsid:ipni.org:names:1009045-1', 'Eupatorium kiirunense (Kitam.) C.H.Ou & S.W.Chung']\n",
      "['4269', 'Fragaria hayatai', 'urn:lsid:ipni.org:names:725025-1', 'Fragaria hayatai Makino']\n",
      "['475', 'Gymnocarpium remote-pinnatum', 'urn:lsid:ipni.org:names:17396830-1', 'Gymnocarpium remote-pinnatum (Hayata) Ching']\n",
      "['2349', 'Halophila beccari', 'urn:lsid:ipni.org:names:431747-1', 'Halophila beccarii Asch.']\n",
      "['2400', 'Hymenophyllum palmatifidum', 'urn:lsid:ipni.org:names:77063307-1', 'Hymenophyllum palmatifidum (Müll.Berol.) Ebihara & K.Iwats.']\n",
      "['2323', 'Hypericum nakamurai', 'urn:lsid:ipni.org:names:433641-1', 'Hypericum nakamurai (Masam.) N.Robson']\n",
      "['188', 'Ilex hayataiana', 'urn:lsid:ipni.org:names:83361-1', 'Ilex hayataiana Loes.']\n",
      "['4599', 'Kadsura philippinensis', 'urn:lsid:ipni.org:names:554591-1', 'Kadsura philippinensis Elmer']\n",
      "['4620', 'Lathraea purpurea', 'urn:lsid:ipni.org:names:662050-1', 'Lathraea purpurea Cummins ex King']\n",
      "['4629', 'Limnophila trichophylla', 'urn:lsid:ipni.org:names:804370-1', 'Limnophila trichophylla Kom.']\n",
      "['3660', 'Liparis nakaharai', 'urn:lsid:ipni.org:names:641052-1', 'Liparis nakaharai Hayata']\n",
      "['1437', 'Microlepia intramarginalis', 'urn:lsid:ipni.org:names:17445010-1', 'Microlepia intramarginalis (Tagawa) Seriz.']\n",
      "['3195', 'Musa yamiensis', 'urn:lsid:ipni.org:names:77094816-1', 'Musa yamiensis C.L.Yeh & J.H.Chen']\n",
      "['3706', 'Nervilia cumberlegei', 'urn:lsid:ipni.org:names:645466-1', 'Nervilia cumberlegei Seidenf. & Smitinand']\n",
      "['3260', 'Nuphar shimadai', 'urn:lsid:ipni.org:names:605466-1', 'Nuphar shimadai Hayata']\n",
      "['3327', 'Ophioglossum austroasiaticum', 'urn:lsid:ipni.org:names:17408960-1', 'Ophioglossum austroasiaticum Nishida']\n",
      "['3328', 'Ophioglossum parvum', 'urn:lsid:ipni.org:names:17552000-1', 'Ophioglossum parvum M.Nishida & S.Kurita']\n",
      "['2286', 'Oreogrammitis caespitosa', 'urn:lsid:ipni.org:names:77085779-1', 'Oreogrammitis caespitosa (Blume) Parris']\n",
      "['2289', 'Oreogrammitis marivelesensis', 'urn:lsid:ipni.org:names:77085818-1', 'Oreogrammitis marivelesensis (Copel.) Parris']\n",
      "['1905', 'Paraboea swinhoii', 'urn:lsid:ipni.org:names:914383-1', 'Paraboea swinhoii (Hance) B.L.Burtt']\n",
      "['2492', 'Paraphlomis tomentoso-capitata', 'urn:lsid:ipni.org:names:453712-1', 'Paraphlomis tomentoso-capitata Yamam.']\n",
      "['3898', 'Peperomia nakaharai', 'urn:lsid:ipni.org:names:679198-1', 'Peperomia nakaharai Hayata']\n",
      "['977', 'Pertya simozawai', 'urn:lsid:ipni.org:names:237248-1', 'Pertya simozawai Masam.']\n",
      "['3014', 'Phlegmariurus cryptomerianus', 'urn:lsid:ipni.org:names:17571930-1', 'Phlegmariurus cryptomerianus (Maxim.) Ching ex H.S.Kung & Li Bing Zhang']\n",
      "['3854', 'Plenasium banksiifolium', 'urn:lsid:ipni.org:names:17178010-1', 'Plenasium banksiifolium C.Presl']\n",
      "['4295', 'Prunus matuurai', 'urn:lsid:ipni.org:names:729950-1', 'Prunus matuurai Sasaki']\n",
      "['4127', 'Pteris arisanensis', 'urn:lsid:ipni.org:names:17415300-1', 'Pteris arisanensis Tagawa']\n",
      "['4145', 'Pteris kawabatae', 'urn:lsid:ipni.org:names:17452900-1', 'Pteris kawabatae Kurata']\n",
      "['4151', 'Pteris parkeri', 'urn:lsid:ipni.org:names:17260970-1', 'Pteris parkeri hort.; Gard.Chr.']\n",
      "['2299', 'Radiogrammitis beddomeana', 'urn:lsid:ipni.org:names:77085653-1', 'Radiogrammitis beddomeana (Alderw.) Parris']\n",
      "['4235', 'Rhamnus chingshuiensis', 'urn:lsid:ipni.org:names:718264-1', 'Rhamnus chingshuiensis Shimizu']\n",
      "['4239', 'Rhamnus kanagusuki', 'urn:lsid:ipni.org:names:718423-1', 'Rhamnus kanagusukii Makino']\n",
      "['1647', 'Rhododendron nakaharai', 'urn:lsid:ipni.org:names:332934-1', 'Rhododendron nakaharai Hayata']\n",
      "['1657', 'Rhododendron tanakai', 'urn:lsid:ipni.org:names:333448-1', 'Rhododendron tanakai Hayata']\n",
      "['2505', 'Salvia hayatana', 'urn:lsid:ipni.org:names:456353-1', 'Salvia hayatana Makino ex Hayata']\n",
      "['2519', 'Scutellaria playfairii', 'urn:lsid:ipni.org:names:884233-1', 'Scutellaria playfairii  var. procumbens (Ohwi) C.Y.Wu & H.W.Li']\n",
      "['153', 'Semecarpus gigantifolia', 'urn:lsid:ipni.org:names:71232-1', 'Semecarpus gigantifolia S.Vidal']\n",
      "['997', 'Senecio crataegifolius', 'urn:lsid:ipni.org:names:244671-1', 'Senecio crataegifolius Hayata']\n",
      "['1004', 'Senecio taitungensis', 'urn:lsid:ipni.org:names:991872-1', 'Senecio taitungensis S.S.Ying']\n",
      "['265', 'Sinopanax formosana', 'urn:lsid:ipni.org:names:92561-1', 'Sinopanax formosana (Hayata) H.L.Li']\n",
      "['4932', 'Stegnogramma wilfordii', 'urn:lsid:ipni.org:names:17455090-1', 'Stegnogramma wilfordii (Hook.) Seriz.']\n",
      "['45', 'Strobilanthes formosana', 'urn:lsid:ipni.org:names:55691-1', 'Strobilanthes formosana S.Moore']\n",
      "['4225', 'Thalictrum urbaini', 'urn:lsid:ipni.org:names:714982-1', 'Thalictrum urbaini Hayata']\n",
      "['2306', 'Themelium curtisii', 'urn:lsid:ipni.org:names:77061484-1', 'Themelium curtisii (Baker) Parris']\n",
      "['3289', 'Nephrolepis × copelandii ', 'urn:lsid:ipni.org:names:17572530-1', 'Nephrolepis × copelandii W.H.Wagner']\n",
      "['3291', 'Nephrolepis × pseudobiserrata ', 'urn:lsid:ipni.org:names:77069558-1', 'Nephrolepis × pseudobiserrata Miyam.']\n",
      "['988', 'Pterocypsela × mansuensis ', 'urn:lsid:ipni.org:names:1009049-1', 'Pterocypsela × mansuensis (Hayata) C.I Peng']\n",
      "['4934', 'Thelypteris × erubesquirolica ', 'urn:lsid:ipni.org:names:17564590-1', 'Thelypteris × erubesquirolica W.C.Shieh & J.L.Tsai']\n"
     ]
    }
   ],
   "source": [
    "results = []\n",
    "for r in range(1,len(df)):\n",
    "    myID = df[r][4]\n",
    "    tbcName = df[r][2].replace(\"'\",\"''\")\n",
    "    #if tbcName\n",
    "    QUERY_IPNI_LOCAL = '''\n",
    "    SELECT \"taxonID\", ipni_url, \"scientificName\" \n",
    "    FROM nomenclature.ipni\n",
    "    WHERE \"scientificName\" like '%s%%'\n",
    "    ''' % tbcName\n",
    "    with conn:\n",
    "        with conn.cursor() as curs:\n",
    "            curs.execute(QUERY_IPNI_LOCAL)\n",
    "            ipniResults = curs.fetchall()\n",
    "\n",
    "    if len(ipniResults) == 1:\n",
    "        ipniFullname = ipniResults[0][2]\n",
    "        # 插入 postgresql 時要 escape '\n",
    "        ipniTaxonID = ipniResults[0][0].replace(\"'\", \"''\")\n",
    "        ipniName = g.fmtname(ipniResults[0][2], doformat=False)[0]\n",
    "        UPDATE_RL_IPNI = '''\n",
    "        UPDATE twredlist2017\n",
    "        SET ipni_taxonid = '%s',\n",
    "            ipni_fullname = '%s',\n",
    "            ipni_name = '%s'\n",
    "        WHERE id = %s\n",
    "        ''' % (ipniTaxonID, ipniFullname, ipniName, myID)\n",
    "        print([myID, tbcName, ipniTaxonID, ipniFullname])\n",
    "    else:\n",
    "        results.append([myID, tbcName, ipniResults])"
   ]
  },
  {
   "cell_type": "code",
   "execution_count": 18,
   "metadata": {
    "collapsed": true
   },
   "outputs": [],
   "source": [
    "tbcName = 'Acalypha matuda'"
   ]
  },
  {
   "cell_type": "code",
   "execution_count": 27,
   "metadata": {},
   "outputs": [
    {
     "data": {
      "text/plain": [
       "'Acalypha matudae'"
      ]
     },
     "execution_count": 27,
     "metadata": {},
     "output_type": "execute_result"
    }
   ],
   "source": [
    "g.fmtname(ipniResults[0][2], doformat=False)[0]"
   ]
  },
  {
   "cell_type": "code",
   "execution_count": 30,
   "metadata": {},
   "outputs": [
    {
     "data": {
      "text/plain": [
       "'urn:lsid:ipni.org:names:1377-2'"
      ]
     },
     "execution_count": 30,
     "metadata": {},
     "output_type": "execute_result"
    }
   ],
   "source": [
    "ipniResults[0][0]"
   ]
  },
  {
   "cell_type": "code",
   "execution_count": null,
   "metadata": {
    "collapsed": true
   },
   "outputs": [],
   "source": []
  }
 ],
 "metadata": {
  "kernelspec": {
   "display_name": "Python 3",
   "language": "python",
   "name": "python3"
  },
  "language_info": {
   "codemirror_mode": {
    "name": "ipython",
    "version": 3
   },
   "file_extension": ".py",
   "mimetype": "text/x-python",
   "name": "python",
   "nbconvert_exporter": "python",
   "pygments_lexer": "ipython3",
   "version": "3.5.2"
  }
 },
 "nbformat": 4,
 "nbformat_minor": 2
}

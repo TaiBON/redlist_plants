{
 "cells": [
  {
   "cell_type": "markdown",
   "metadata": {},
   "source": [
    "\n",
    "\n",
    "| column name    | meaning                 |                                                                                                                         \n",
    "| :-------------- | :----------------------- |                                                        \n",
    "| family_fot     | 英文科名                |  \n",
    "| family_fot_zh  | 中文科名                |     \n",
    "| family         | Family (APG IV & PPG I) |     \n",
    "| family_zh      | 科名 (APG IV & PPG I)   |      \n",
    "| fullname       | 學名                    |       \n",
    "| zh_name        | 中文名                  |       \n",
    "| prev_category  | 2008-2010 Red List      |     \n",
    "| prev_criteria  | 評估標準                |       \n",
    "| prev_evaluator | 評估者                  |      \n",
    "| category       | 2017 Red List           |    \n",
    "| criteria       | 2017評估標準            |    \n",
    "| evaluator      | 2017評估者              |      \n",
    "| evaluation     | 2017評估說明書          |   \n",
    "| images         | 2017圖片                |    \n",
    "| endemic        | 特有性                  |      \n",
    "| native         | 原生性                  |      \n",
    "| others         | 其他                    |      \n",
    "| note           | 備註                    |     "
   ]
  },
  {
   "cell_type": "code",
   "execution_count": 1,
   "metadata": {
    "collapsed": true
   },
   "outputs": [],
   "source": [
    "import pandas as pd\n",
    "import psycopg2 as pg\n",
    "import genlist_api\n",
    "import re\n",
    "import csv\n",
    "g = genlist_api.Genlist()\n",
    "# postgresql database name\n",
    "DSN = 'dbname=nvdimp user=psilotum'\n",
    "conn = pg.connect(DSN)"
   ]
  },
  {
   "cell_type": "markdown",
   "metadata": {},
   "source": [
    "## Create data table\n",
    "twredlist2017"
   ]
  },
  {
   "cell_type": "code",
   "execution_count": null,
   "metadata": {
    "collapsed": true
   },
   "outputs": [],
   "source": [
    "#id|family_fot|family_fot_zh|family|family_zh|fullname|\n",
    "#zh_name|prev_category|prev_criteria|prev_evaluator|\n",
    "#category|criteria|evaluator|evaluation|images|endemic|native|\n",
    "#others|note|update\n",
    "\n",
    "CREATE_TABLE = '''\n",
    "CREATE TABLE nomenclature.twredlist2017_backup AS (SELECT * FROM nomenclature.twredlist2017);\n",
    "DROP TABLE IF EXISTS nomenclature.twredlist2017;                                                                                                                                   \n",
    "CREATE TABLE nomenclature.twredlist2017 (                                                                                                                                          \n",
    "    id serial primary key,                                                                                                                                            \n",
    "    plant_type integer,                                                                                                                                               \n",
    "    family_fot varchar,                                                                                                                                               \n",
    "    family_fot_zh varchar,                                                                                                                                            \n",
    "    family varchar,                                                                                                                                                   \n",
    "    family_zh varchar,                                                                                                                                                \n",
    "    genus varchar,                                                                                                                                                    \n",
    "    genus_zh varchar,                                                                                                                                                 \n",
    "    name varchar,                                                                                                                                                     \n",
    "    fullname varchar,                                                                                                                                                 \n",
    "    zh_name varchar,                                                                                                                                                  \n",
    "    authors varchar,                                                                                                                                                  \n",
    "    prev_category varchar,                                                                                                                                            \n",
    "    prev_criteria varchar,                                                                                                                                            \n",
    "    prev_evaluator varchar,                                                                                                                                           \n",
    "    category varchar,                                                                                                                                                 \n",
    "    criteria varchar,                                                                                                                                                 \n",
    "    evaluator varchar,                                                                                                                                                \n",
    "    evaluation varchar,                                                                                                                                               \n",
    "    images varchar,                                                                                                                                                   \n",
    "    endemic varchar,                                                                                                                                                  \n",
    "    native varchar,                                                                                                                                                   \n",
    "    others varchar,                                                                                                                                                   \n",
    "    note varchar,\n",
    "    update varchar,\n",
    "    tropicos_namecode varchar,\n",
    "    tropicos_fullname varchar,\n",
    "    ipni_id varchar,\n",
    "    ipni_fullname varchar,\n",
    "    ipni_name varchar\n",
    ");\n",
    "'''\n",
    "with conn:\n",
    "    with conn.cursor() as curs:                                                                                                                           \n",
    "        curs.execute(CREATE_TABLE)\n",
    "    conn.commit()"
   ]
  },
  {
   "cell_type": "code",
   "execution_count": null,
   "metadata": {
    "collapsed": true
   },
   "outputs": [],
   "source": [
    "# 匯入 csv 檔\n",
    "# 匯入前要把斷行檢查一下\n",
    "# Limnocharis flava\n",
    "# Sorghum bicolor subsp. arundinaceum\n",
    "# \n",
    "\n",
    "redlistRaw = []\n",
    "with open('../../workspace/redlist171211.csv', 'r') as f:\n",
    "    csvreader = csv.reader(f, delimiter='|', quotechar='\"')\n",
    "    for row in csvreader:\n",
    "        redlistRaw.append(row)\n",
    "r = redlistRaw\n",
    "\n",
    "#rlistRaw = pd.read_csv('../../workspace/redlist171204.csv', delimiter='|', na_values='')"
   ]
  },
  {
   "cell_type": "code",
   "execution_count": null,
   "metadata": {
    "collapsed": true
   },
   "outputs": [],
   "source": [
    "for row in range(len(r)):\n",
    "    # escape quote (for postgresql)\n",
    "    if \"'\" in r[row][5]:\n",
    "        r[row][5] = r[row][5].replace(\"'\", \"''\")\n",
    "    eachRow = \"'\" + \"','\".join(r[row]) + \"'\"\n",
    "    # replace full-width braces\n",
    "    eachRow = eachRow.replace('（', ' (')\n",
    "    eachRow = eachRow.replace(' ）', ') ')\n",
    "    # replace 雜交的 \"x\" (alphabet) to × (cross sign)\n",
    "    eachRow = re.sub(' x ', ' × ', eachRow)\n",
    "    # replace spaces greater than 1 \n",
    "    eachRow = re.sub(\" {1,}\",' ', eachRow)\n",
    "    # replace trailing spaces \n",
    "    eachRow = re.sub(\" {1,}'\",\"'\", eachRow)\n",
    "    # replace non-break spaces\n",
    "    eachRow = eachRow.replace('\\xa0',' ')\n",
    "    # replace ssp. to subsp.\n",
    "    eachRow = re.sub(\" ssp. \", \" subsp. \", eachRow)\n",
    "    \n",
    "    INSERT_REDLIST = '''\n",
    "    INSERT INTO nomenclature.twredlist2017 \n",
    "    (id,family_fot,family_fot_zh,family,family_zh,fullname,                                                                                                                   \n",
    "    zh_name,prev_category,prev_criteria,prev_evaluator,                                                                                                                   \n",
    "    category,criteria,evaluator,evaluation,images,endemic,                                                                                                                \n",
    "    native,others,note,update) VALUES (%s)\n",
    "    ''' % (eachRow)\n",
    "    with conn:\n",
    "        with conn.cursor() as curs:                                                                                                                           \n",
    "            curs.execute(INSERT_REDLIST)\n",
    "        conn.commit()"
   ]
  },
  {
   "cell_type": "code",
   "execution_count": null,
   "metadata": {
    "collapsed": true
   },
   "outputs": [],
   "source": [
    "# 更新 f. 為 fo.\n",
    "UPDATE_FORMA = '''\n",
    "UPDATE nomenclature.twredlist2017\n",
    "SET fullname = regexp_replace(fullname, ' f. ', ' fo. ')\n",
    "where criteria like  '品型%'\n",
    "'''\n",
    "with conn:\n",
    "    with conn.cursor() as curs:                                                                                                                           \n",
    "        curs.execute(UPDATE_FORMA)\n",
    "    conn.commit()"
   ]
  },
  {
   "cell_type": "code",
   "execution_count": null,
   "metadata": {
    "collapsed": true
   },
   "outputs": [],
   "source": [
    "# 更正一些奇怪的東西\n",
    "UPDATE_OTHERS = '''\n",
    "UPDATE nomenclature.twredlist2017\n",
    "SET family = 'Typhaceae' WHERE family = 'Typhaceae ';\n",
    "UPDATE nomenclature.twredlist2017\n",
    "SET family = 'Typhaceae' WHERE family = 'Typhaceae ';\n",
    "UPDATE nomenclature.twredlist2017\n",
    "SET family = 'Tamaricaceae' WHERE family = 'Tamaricaeae';\n",
    "UPDATE nomenclature.twredlist2017\n",
    "SET family = 'Isoëtaceae' where family = 'Isoetaceae';\n",
    "UPDATE nomenclature.twredlist2017\n",
    "SET fullname = regexp_replace(fullname, '#', '');\n",
    "UPDATE nomenclature.twredlist2017\n",
    "SET fullname = regexp_replace(fullname, '\\?', '');\n",
    "UPDATE nomenclature.twredlist2017\n",
    "SET fullname = regexp_replace(fullname, '\\*', '');\n",
    "''' \n",
    "with conn:\n",
    "    with conn.cursor() as curs:                                                                                                                           \n",
    "        curs.execute(UPDATE_OTHERS)\n",
    "    conn.commit()"
   ]
  },
  {
   "cell_type": "markdown",
   "metadata": {},
   "source": [
    "## 新增作者不含學名之欄位\n",
    "\n",
    "為了方便比對，將 fullname (含作者) 拆成學名(name)以及作者(authors)"
   ]
  },
  {
   "cell_type": "code",
   "execution_count": 5,
   "metadata": {
    "collapsed": true
   },
   "outputs": [],
   "source": [
    "QUERY = 'SELECT fullname FROM twredlist2017;'\n",
    "with conn:\n",
    "    with conn.cursor() as curs:                                                                                                                           \n",
    "        curs.execute(QUERY)\n",
    "        fullnames = curs.fetchall()\n",
    "for i in range(len(fullnames)):\n",
    "    fname = fullnames[i][0]\n",
    "    nameFormatted = g.fmtname(fname, split=True, format_type='custom', \n",
    "                                 italic_b=\"\", italic_e=\"\")\n",
    "    if \"'\" in fname:\n",
    "        fname = fname.replace(\"'\", \"''\")\n",
    "    if \"\\\"\" in fname:\n",
    "        fname = fname.replace(\"\\\"\", \"''\")\n",
    "    if \"'\" in nameFormatted[0]:\n",
    "        nameFormatted[0] = nameFormatted[0].replace(\"'\", \"''\")\n",
    "    if \"'\" in nameFormatted[1]:\n",
    "        nameFormatted[1] = nameFormatted[1].replace(\"'\", \"''\")\n",
    "    UPDATE = '''\n",
    "        UPDATE twredlist2017 SET\n",
    "            name = '%s', authors = '%s'\n",
    "        WHERE fullname = '%s'\n",
    "        ''' % (nameFormatted[0], nameFormatted[1], fname)\n",
    "    with conn:\n",
    "        with conn.cursor() as curs:                                                                                                                           \n",
    "            curs.execute(UPDATE)\n",
    "conn.commit()"
   ]
  },
  {
   "cell_type": "markdown",
   "metadata": {},
   "source": [
    "### 更新屬名以及屬中名\n",
    "\n",
    "屬中名的資料表 nomenclature.twp_genus"
   ]
  },
  {
   "cell_type": "code",
   "execution_count": 6,
   "metadata": {
    "collapsed": true
   },
   "outputs": [],
   "source": [
    "UPDATE_GENUS = '''\n",
    "UPDATE nomenclature.twredlist2017\n",
    "SET genus = split_part(name, ' ', 1);\n",
    "'''\n",
    "with conn:\n",
    "    with conn.cursor() as curs:                                                                                                                           \n",
    "        curs.execute(UPDATE_GENUS)\n",
    "conn.commit()"
   ]
  },
  {
   "cell_type": "code",
   "execution_count": 8,
   "metadata": {
    "collapsed": true
   },
   "outputs": [],
   "source": [
    "UPDATE_GENUS_ZH = '''\n",
    "UPDATE nomenclature.twredlist2017\n",
    "SET genus_zh = g.genus_zh\n",
    "FROM (SELECT * FROM nomenclature.twp_genus) as g\n",
    "WHERE twredlist2017.genus = g.genus\n",
    "'''\n",
    "with conn:\n",
    "    with conn.cursor() as curs:                                                                                                                           \n",
    "        curs.execute(UPDATE_GENUS_ZH)\n",
    "conn.commit()"
   ]
  },
  {
   "cell_type": "code",
   "execution_count": null,
   "metadata": {
    "collapsed": true
   },
   "outputs": [],
   "source": [
    "# 更新 plant_type\n",
    "UPDATE_PLANT_TYPE = '''\n",
    "UPDATE nomenclature.twredlist2017\n",
    "SET plant_type = p.plant_type\n",
    "FROM (SELECT * FROM nomenclature.plant_type) as p\n",
    "WHERE twredlist2017.family = p.family;\n",
    "UPDATE nomenclature.twredlist2017\n",
    "SET plant_type = 3 WHERE plant_type = 4;\n",
    "UPDATE nomenclature.twredlist2017\n",
    "SET plant_type = 0 WHERE family='Lycopodiaceae' or\n",
    "family = 'Isoëtaceae' or family = 'Selaginellaceae';\n",
    "'''\n",
    "with conn:\n",
    "    with conn.cursor() as curs:                                                                                                                           \n",
    "        curs.execute(UPDATE_PLANT_TYPE)\n",
    "conn.commit()"
   ]
  },
  {
   "cell_type": "code",
   "execution_count": null,
   "metadata": {
    "collapsed": true
   },
   "outputs": [],
   "source": [
    "# 未成對的 \" 會造成 zhmakeindex 爛掉\n",
    "UPDATE_BAMBUSA = '''\n",
    "UPDATE nomenclature.twredlist2017\n",
    "SET name = 'Bambusa dolichomerithalla cv. ''Green\\x0astripe-stem\\'\\'',\n",
    "authors = 'W. C. Lin'\n",
    "WHERE zh_name = '金絲火廣竹';\n",
    "'''\n",
    "with conn:\n",
    "    with conn.cursor() as curs:                                                                                                                           \n",
    "        curs.execute(UPDATE_BAMBUSA)\n",
    "conn.commit()"
   ]
  },
  {
   "cell_type": "code",
   "execution_count": null,
   "metadata": {
    "collapsed": true
   },
   "outputs": [],
   "source": [
    "Q = '''SELECT name from twredlist2017 where name like '%×%';'''\n",
    "with conn:\n",
    "    with conn.cursor() as curs:                                                                                                                           \n",
    "        curs.execute(Q)\n",
    "        qry = curs.fetchall()"
   ]
  },
  {
   "cell_type": "code",
   "execution_count": null,
   "metadata": {
    "collapsed": true
   },
   "outputs": [],
   "source": [
    "FULLNAME = g.fmtnameNew('Cornopteris decurrenti-alata (Hook.) Nakai var. decurrenti-alata', \n",
    "             format_type= 'custom', italic_b='\\\\textit{', italic_e='}',\n",
    "             withSpAuthor= True)[1]"
   ]
  },
  {
   "cell_type": "code",
   "execution_count": null,
   "metadata": {
    "collapsed": true
   },
   "outputs": [],
   "source": [
    "g.fmtnameNew('Cornopteris decurrenti-alata (Hook.) Nakai var. decurrenti-alata')"
   ]
  },
  {
   "cell_type": "markdown",
   "metadata": {
    "collapsed": true
   },
   "source": [
    "## 2017-12-19 最後資料彙整\n",
    "\n",
    "因為和明後來有再修正，所以需要對照哪些地方有修正過"
   ]
  },
  {
   "cell_type": "code",
   "execution_count": null,
   "metadata": {
    "collapsed": true
   },
   "outputs": [],
   "source": [
    "#id|family_fot|family_fot_zh|family|family_zh|fullname|\n",
    "#zh_name|prev_category|prev_criteria|prev_evaluator|\n",
    "#category|criteria|evaluator|evaluation|images|endemic|native|\n",
    "#others|note|update\n",
    "\n",
    "CREATE_TABLE = '''\n",
    "-- CREATE TABLE nomenclature.twredlist20171219_backup AS (SELECT * FROM nomenclature.twredlist2017);\n",
    "DROP TABLE IF EXISTS nomenclature.twredlist20171219;                                                                                                                                   \n",
    "CREATE TABLE nomenclature.twredlist20171219 (                                                                                                                                          \n",
    "    id serial primary key,                                                                                                                                            \n",
    "    plant_type integer,                                                                                                                                               \n",
    "    family_fot varchar,                                                                                                                                               \n",
    "    family_fot_zh varchar,                                                                                                                                            \n",
    "    family varchar,                                                                                                                                                   \n",
    "    family_zh varchar,                                                                                                                                                \n",
    "    genus varchar,                                                                                                                                                    \n",
    "    genus_zh varchar,                                                                                                                                                 \n",
    "    name varchar,                                                                                                                                                     \n",
    "    fullname varchar,                                                                                                                                                 \n",
    "    zh_name varchar,                                                                                                                                                  \n",
    "    authors varchar,                                                                                                                                                  \n",
    "    prev_category varchar,                                                                                                                                            \n",
    "    prev_criteria varchar,                                                                                                                                            \n",
    "    prev_evaluator varchar,                                                                                                                                           \n",
    "    category varchar,                                                                                                                                                 \n",
    "    criteria varchar,                                                                                                                                                 \n",
    "    evaluator varchar,                                                                                                                                                \n",
    "    evaluation varchar,                                                                                                                                               \n",
    "    images varchar,                                                                                                                                                   \n",
    "    endemic varchar,                                                                                                                                                  \n",
    "    native varchar,                                                                                                                                                   \n",
    "    others varchar,                                                                                                                                                   \n",
    "    note varchar,\n",
    "    update varchar,\n",
    "    tropicos_namecode varchar,\n",
    "    tropicos_fullname varchar,\n",
    "    ipni_id varchar,\n",
    "    ipni_fullname varchar,\n",
    "    ipni_name varchar\n",
    ");\n",
    "'''\n",
    "with conn:\n",
    "    with conn.cursor() as curs:                                                                                                                           \n",
    "        curs.execute(CREATE_TABLE)\n",
    "    conn.commit()"
   ]
  },
  {
   "cell_type": "code",
   "execution_count": null,
   "metadata": {
    "collapsed": true
   },
   "outputs": [],
   "source": [
    "# 匯入 csv 檔\n",
    "# 匯入前要把斷行檢查一下\n",
    "# Limnocharis flava\n",
    "# Sorghum bicolor subsp. arundinaceum\n",
    "\n",
    "redlistRaw = []\n",
    "with open('../../workspace/20171219/twredlist1219.csv', 'r') as f:\n",
    "    csvreader = csv.reader(f, delimiter='|', quotechar='\"')\n",
    "    for row in csvreader:\n",
    "        redlistRaw.append(row)\n",
    "r = redlistRaw\n",
    "\n",
    "for row in range(len(r)):\n",
    "    # escape quote (for postgresql)\n",
    "    if \"'\" in r[row][5]:\n",
    "        r[row][5] = r[row][5].replace(\"'\", \"''\")\n",
    "    eachRow = \"'\" + \"','\".join(r[row]) + \"'\"\n",
    "    # replace full-width braces\n",
    "    eachRow = eachRow.replace('（', ' (')\n",
    "    eachRow = eachRow.replace(' ）', ') ')\n",
    "    # replace 雜交的 \"x\" (alphabet) to × (cross sign)\n",
    "    eachRow = re.sub(' x ', ' × ', eachRow)\n",
    "    # replace spaces greater than 1 \n",
    "    eachRow = re.sub(\" {1,}\",' ', eachRow)\n",
    "    # replace trailing spaces \n",
    "    eachRow = re.sub(\" {1,}'\",\"'\", eachRow)\n",
    "    # replace non-break spaces\n",
    "    eachRow = eachRow.replace('\\xa0',' ')\n",
    "    # replace ssp. to subsp.\n",
    "    eachRow = re.sub(\" ssp. \", \" subsp. \", eachRow)\n",
    "    \n",
    "    INSERT_REDLIST = '''\n",
    "    INSERT INTO nomenclature.twredlist20171219 \n",
    "    (id,family_fot,family_fot_zh,family,family_zh,fullname,                                                                                                                   \n",
    "    zh_name,category,criteria,endemic,                                                                                                                \n",
    "    native) VALUES (%s)\n",
    "    ''' % (eachRow)\n",
    "    with conn:\n",
    "        with conn.cursor() as curs:                                                                                                                           \n",
    "            curs.execute(INSERT_REDLIST)\n",
    "        conn.commit()"
   ]
  },
  {
   "cell_type": "code",
   "execution_count": null,
   "metadata": {
    "collapsed": true
   },
   "outputs": [],
   "source": [
    "# 匯入 csv 檔\n",
    "# 匯入前要把斷行檢查一下\n",
    "# Limnocharis flava\n",
    "# Sorghum bicolor subsp. arundinaceum\n",
    "\n",
    "redlistRaw = []\n",
    "with open('../../workspace/20171219/newlyadded_1220.csv', 'r') as f:\n",
    "    csvreader = csv.reader(f, delimiter='|', quotechar='\"')\n",
    "    for row in csvreader:\n",
    "        redlistRaw.append(row)\n",
    "nA = redlistRaw\n",
    "\n",
    "for row in range(len(nA)):\n",
    "    # escape quote (for postgresql)\n",
    "    if \"'\" in nA[row][5]:\n",
    "        nA[row][5] = nA[row][5].replace(\"'\", \"''\")\n",
    "    eachRow = \"'\" + \"','\".join(nA[row]) + \"'\"\n",
    "    # replace full-width braces\n",
    "    eachRow = eachRow.replace('（', ' (')\n",
    "    eachRow = eachRow.replace(' ）', ') ')\n",
    "    # replace 雜交的 \"x\" (alphabet) to × (cross sign)\n",
    "    eachRow = re.sub(' x ', ' ×', eachRow)\n",
    "    # replace spaces greater than 1 \n",
    "    eachRow = re.sub(\" {1,}\",' ', eachRow)\n",
    "    # replace trailing spaces \n",
    "    eachRow = re.sub(\" {1,}'\",\"'\", eachRow)\n",
    "    # replace non-break spaces\n",
    "    eachRow = eachRow.replace('\\xa0',' ')\n",
    "    # replace ssp. to subsp.\n",
    "    eachRow = re.sub(\" ssp. \", \" subsp. \", eachRow)\n",
    "    \n",
    "    INSERT_REDLIST = '''\n",
    "    INSERT INTO nomenclature.twredlist2017\n",
    "    (id,family_fot,family_fot_zh,family,family_zh,fullname,                                                                                                                   \n",
    "    zh_name,prev_category,prev_criteria,category,criteria,endemic,                                                                                                                \n",
    "    native) VALUES (%s)\n",
    "    ''' % (eachRow)\n",
    "    with conn:\n",
    "        with conn.cursor() as curs:                                                                                                                           \n",
    "            curs.execute(INSERT_REDLIST)\n",
    "        conn.commit()"
   ]
  },
  {
   "cell_type": "code",
   "execution_count": null,
   "metadata": {
    "collapsed": true
   },
   "outputs": [],
   "source": [
    "fullname = 'Oxalis acetosella L. subsp. griffithii (Edgew. & Hook f.) H.Hara var. formosana S.F.Huang & T.C.Huang'"
   ]
  },
  {
   "cell_type": "code",
   "execution_count": null,
   "metadata": {
    "collapsed": true
   },
   "outputs": [],
   "source": [
    "g.fmtnameNew(iname, format_type= 'custom', italic_b='\\\\textit{', italic_e='}')"
   ]
  },
  {
   "cell_type": "markdown",
   "metadata": {},
   "source": [
    "# 1. 四名"
   ]
  },
  {
   "cell_type": "code",
   "execution_count": null,
   "metadata": {
    "collapsed": true
   },
   "outputs": [],
   "source": [
    "epithetLst = []                                                                                                                                \n",
    "epithet = ''                                                                                                                                   \n",
    "author_start = ''                                                                                                                              \n",
    "cross_type = ''                                                                                                                                \n",
    "subordinate_status = []\n",
    "fullname_split = fullname.split(' ')\n",
    "subrank = ['subsp.', 'ssp.', 'var.', 'fo.', 'cv.', '×', 'x']\n",
    "for s in range(0,len(subrank)):                                                                                                                \n",
    "      if subrank[s] in fullname_split:                                                                                                           \n",
    "          subrank_idx = fullname_split.index(subrank[s])                                                                                         \n",
    "          if subrank[s] == '×' or subrank[s] == 'x':                                                                                             \n",
    "              # 把 x 取代成 ×                                                                                                                    \n",
    "              subrank[s] = '×'                                                                                                                   \n",
    "              fullname_split[subrank_idx] = '×'                                                                                                  \n",
    "              # × 後面有跟著屬名的                                                                                                               \n",
    "              # ex: Genus epithet × Genus epithet2                                                                                               \n",
    "              if re.search('[A-Z].*', fullname_split[subrank_idx+1]):                                                                            \n",
    "                  subordinate_status.append([subrank_idx, subrank[s]])                                                                           \n",
    "                  cross_type = 1                                                                                                                 \n",
    "              else:                                                                                                                              \n",
    "                  # 沒有屬名的 case                                                                                                              \n",
    "                  fullname_split[subrank_idx+1] = '×' + fullname_split[subrank_idx+1]                                                            \n",
    "                  fullname_split.remove(subrank[s])                                                                                              \n",
    "          else:                                                                                                                                  \n",
    "              subordinate_status.append([subrank_idx, subrank[s]])                                                                               \n",
    "\n",
    "          # check for autonyms                                                                                                                   \n",
    "          epithet = fullname_split[1]                                                                                                            \n",
    "          sub_epithet = fullname_split[subrank_idx + 1]                                                                                          \n",
    "          if epithet == sub_epithet:                                                                                                             \n",
    "              autonym = True         "
   ]
  },
  {
   "cell_type": "markdown",
   "metadata": {},
   "source": [
    "## 處理 illegitimate & invalid 名稱"
   ]
  },
  {
   "cell_type": "code",
   "execution_count": 11,
   "metadata": {
    "collapsed": true
   },
   "outputs": [],
   "source": [
    "redlistRaw = []\n",
    "with open('../../workspace/illegitimate.csv', 'r') as f:\n",
    "    csvreader = csv.reader(f, delimiter='|', quotechar='\"')\n",
    "    for row in csvreader:\n",
    "        redlistRaw.append(row)\n",
    "il = redlistRaw"
   ]
  },
  {
   "cell_type": "code",
   "execution_count": 12,
   "metadata": {},
   "outputs": [
    {
     "data": {
      "text/plain": [
       "[['Helwingia japonica (Thunb.) Dietr. subsp. taiwaniana Y.P. Yang & H.Y. Liu',\n",
       "  'Helwingia japonica subsp. formosana'],\n",
       " ['Geophila repens (L.) I.M. Johnst.', 'Geophila herbacea'],\n",
       " ['Epithema taiwanense S.S.Ying var. taiwanensis',\n",
       "  'Epithema taiwanensis var. taiwanensis'],\n",
       " ['Alectra arvensis (Benth.) Merr.', 'Alectra avensis'],\n",
       " ['Swietenia mahagoni (L.) Jacq.', 'Swietenia mahogoni'],\n",
       " ['Epithema taiwanense S.S.Ying var. fasciculatum (C.B. Clarke) Z.Yu Li & M.T. Kao',\n",
       "  'Epithema taiwanensis var. fasciculata'],\n",
       " ['-- Elaeagnus formosensis Hatus.', 'Elaeagnus ohashii'],\n",
       " ['Gastrodia flabilabella S.S.Ying', 'Gastrodia flavilabella'],\n",
       " ['Ficus ampelos Burm. f.', 'Ficus ampelas'],\n",
       " ['Phaenosperma globosum Munro ex Benth.', 'Phaenosperma globosa'],\n",
       " ['Diospyros blancoi A. DC.', 'Diospyros philippensis'],\n",
       " ['Codoriocalyx motorius (Houtt.) H. Ohashi', 'Codariocalyx motorius'],\n",
       " ['Malva cathayensis M.G. Gilbert, Y. Tang & Dorr', 'Malva sinensis'],\n",
       " ['Triumfetta rhomboidea Jacq.', 'Triumfetta bartramia'],\n",
       " ['Calanthe alismifolia Lindl.', 'Calanthe alismifolia'],\n",
       " ['Pomatocalpa acuminatum (Rolfe) Schltr.', 'Pomatocalpa acuminata'],\n",
       " ['Cephalanthus tetrandrus (Roxb.) Ridsdale & Bakh. f.',\n",
       "  'Cephalanthus naucleoides'],\n",
       " ['Schinus terebinthifolia Raddi', 'Schinus terebinthifolius'],\n",
       " [\"Arabidopsis lyrata (L.) O''Kane & Al-Shehbaz subsp. kamchatica (Fisch. ex DC.) Hultén\",\n",
       "  'Arabidopsis lyrata subsp. kamtschatica'],\n",
       " ['Glochidion puber (L.) Hutch.', 'Glochidion puberum'],\n",
       " ['Phragmites karka (Retz.) Trin. ex Steud.', 'Phragmites vallatoria'],\n",
       " ['Calamagrostis arundinacea (L.) Roth', 'Deyeuxia brachytricha'],\n",
       " ['Datura innoxia Mill.', 'Datura inoxia'],\n",
       " ['Saussurea kiraisiensis Masam.', 'Saussurea kiraisanensis'],\n",
       " ['Carex brachyanthera Ohwi', 'Carex brachyathera'],\n",
       " ['Adenia heterophylla (Blume) Koord.', 'Adenia formosana'],\n",
       " ['Cyperus stolonifer Retz.', 'Cyperus stoloniferus'],\n",
       " ['Davallia repens (L. f.) Kuhn', 'Davallia repens'],\n",
       " ['Nicotiana plumbaginifolia Viv.', 'Nicotiana plumbaginifolia'],\n",
       " ['Ageratum conyzoides L.', 'Ageratum conyzoides'],\n",
       " ['Gnaphalium purpureum L.', 'Gnaphalium purpureum'],\n",
       " ['Silene gallica L.', 'Silene gallica'],\n",
       " ['Poa pratensis L.', 'Poa pratensis'],\n",
       " ['Onychium japonicum (Thunb.) Kunze', 'Onychium japonicum'],\n",
       " ['Morinda citrifolia L.', 'Morinda citrifolia'],\n",
       " ['Persicaria maculosa Gray', 'Persicaria maculosa'],\n",
       " ['Liparis caespitosa (Thouars) Lindl.', 'Liparis cespitosa'],\n",
       " ['Fimbristylis littoralis Gaudich.', 'Fimbristylis miliacea']]"
      ]
     },
     "execution_count": 12,
     "metadata": {},
     "output_type": "execute_result"
    }
   ],
   "source": [
    "QIL = ''\n",
    "with conn:\n",
    "    with conn.cursor() as curs:                                                                                                                           \n",
    "        curs.execute(CREATE_TABLE)"
   ]
  },
  {
   "cell_type": "code",
   "execution_count": null,
   "metadata": {
    "collapsed": true
   },
   "outputs": [],
   "source": []
  }
 ],
 "metadata": {
  "kernelspec": {
   "display_name": "Python 3",
   "language": "python",
   "name": "python3"
  },
  "language_info": {
   "codemirror_mode": {
    "name": "ipython",
    "version": 3
   },
   "file_extension": ".py",
   "mimetype": "text/x-python",
   "name": "python",
   "nbconvert_exporter": "python",
   "pygments_lexer": "ipython3",
   "version": "3.5.2"
  }
 },
 "nbformat": 4,
 "nbformat_minor": 2
}

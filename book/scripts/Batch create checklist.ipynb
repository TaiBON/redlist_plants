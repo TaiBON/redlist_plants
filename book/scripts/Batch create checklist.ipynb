{
 "cells": [
  {
   "cell_type": "code",
   "execution_count": 78,
   "metadata": {
    "collapsed": true
   },
   "outputs": [],
   "source": [
    "#!/usr/bin/env python3\n",
    "import re\n",
    "import psycopg2 as pg\n",
    "import genlist_api\n",
    "g = genlist_api.Genlist()\n"
   ]
  },
  {
   "cell_type": "code",
   "execution_count": 79,
   "metadata": {},
   "outputs": [],
   "source": [
    "def main():\n",
    "    \n",
    "    DSN = 'dbname=nvdimp user=psilotum'\n",
    "    conn = pg.connect(DSN)\n",
    "    def queryCategory(redlistCat, criteria = True):\n",
    "        if criteria == True:\n",
    "            cri = ',criteria'\n",
    "        elif criteria == False:\n",
    "            cri = ''\n",
    "        print(cri)\n",
    "        QUERY_CATEGORY = '''select family,family_zh,name,zh_name%s\n",
    "        from twredlist2017 where category like '%s'\n",
    "        order by family,fullname;''' % (cri, redlistCat)\n",
    "        with conn:\n",
    "            with conn.cursor() as curs:\n",
    "                curs.execute(QUERY_CATEGORY)\n",
    "                catResults = curs.fetchall()\n",
    "        return(catResults)\n",
    "    \n",
    "    def writeTable(output, redlist, criteria = False, cols = 4):\n",
    "        align = 'l' * cols \n",
    "        if criteria == True:\n",
    "            cri = '& 評估標準'\n",
    "        elif criteria == False:\n",
    "            cri = ''\n",
    "        with open(output, 'w') as tex:\n",
    "            # xetex table\n",
    "            TABLE_BEGIN = '''%%\\\\begin{table}[!h]\n",
    "        \\\\begin{longtable}{p{3cm}p{2cm}p{5cm}p{3cm}}\n",
    "        \\\\toprule\n",
    "          科名 & 科中名 & 分類群學名 & 分類群中名 %s \\\\\\\\\n",
    "        \\\\midrule \n",
    "        \\\\endfirsthead\n",
    "\n",
    "        {{\\\\bfseries \\\\tablename\\\\ \\\\thetable{} 續前頁 }} \\\\\\\\\n",
    "        科名 & 科中名 & 分類群學名 & 分類群中名 %s \\\\\\\\\n",
    "        \\\\midrule\n",
    "        \\\\endhead\n",
    "            ''' % (cri, cri)\n",
    "            TABLE_END = '''    \\\\bottomrule\n",
    "        \\\\end{longtable}\n",
    "    %%\\\\end{table}'''\n",
    "            tex.write(TABLE_BEGIN)\n",
    "            # write content\n",
    "            for item in range(len(redlist)):\n",
    "                redlist[item] = list(redlist[item])\n",
    "                redlist[item][2] = g.fmtname(redlist[item][2], format_type = 'custom',\n",
    "                                        italic_b=\"\\\\textit{\", italic_e=\"}\", split= False)\n",
    "                redlist[item][2] = re.sub('&', r'\\&', redlist[item][2])\n",
    "                joinedItem = ' & '.join(redlist[item]) + '\\\\\\\\' + '\\n'\n",
    "                tex.write('    ' + joinedItem)\n",
    "            tex.write(TABLE_END)\n",
    "    \n",
    "    expCatogories = ['EW', 'RE', 'CR']\n",
    "    for cat in range(len(expCatogories)):\n",
    "        CAT = queryCategory(expCatogories[cat], criteria = False)\n",
    "        writeTable('ch3_%s.tex' % expCatogories[cat], CAT, criteria=False, cols = 4)\n",
    "        print('Exporting ch3_%s.tex' % expCatogories[cat])\n",
    "    \n",
    "    \n",
    "if __name__=='__main__':\n",
    "    main()\n",
    "    conn.close()"
   ]
  },
  {
   "cell_type": "code",
   "execution_count": null,
   "metadata": {
    "collapsed": true
   },
   "outputs": [],
   "source": []
  }
 ],
 "metadata": {
  "kernelspec": {
   "display_name": "Python 3",
   "language": "python",
   "name": "python3"
  },
  "language_info": {
   "codemirror_mode": {
    "name": "ipython",
    "version": 3
   },
   "file_extension": ".py",
   "mimetype": "text/x-python",
   "name": "python",
   "nbconvert_exporter": "python",
   "pygments_lexer": "ipython3",
   "version": "3.5.2"
  }
 },
 "nbformat": 4,
 "nbformat_minor": 2
}

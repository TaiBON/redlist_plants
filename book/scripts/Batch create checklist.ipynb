{
 "cells": [
  {
   "cell_type": "code",
   "execution_count": 29,
   "metadata": {
    "collapsed": true
   },
   "outputs": [],
   "source": [
    "#!/usr/bin/env python3\n",
    "import re\n",
    "import psycopg2 as pg\n",
    "import genlist_api\n",
    "g = genlist_api.Genlist()\n",
    "\n",
    "DSN = 'dbname=nvdimp user=psilotum'       \n",
    "conn = pg.connect(DSN)"
   ]
  },
  {
   "cell_type": "code",
   "execution_count": 20,
   "metadata": {
    "collapsed": true
   },
   "outputs": [],
   "source": [
    "def queryCategory(redlistCat, ptype, criteria = True):\n",
    "    if criteria == True:\n",
    "        cri = ',criteria'\n",
    "    elif criteria == False:\n",
    "        cri = ''\n",
    "    QUERY_CATEGORY = '''select family||' ('||family_zh||')',name,zh_name%s\n",
    "    from twredlist2017 where category like '%s' and plant_type = %s\n",
    "    order by family,fullname;''' % (cri, redlistCat, ptype)\n",
    "    with conn:\n",
    "        with conn.cursor() as curs:\n",
    "            curs.execute(QUERY_CATEGORY)\n",
    "            catResults = curs.fetchall()\n",
    "    return(catResults)"
   ]
  },
  {
   "cell_type": "code",
   "execution_count": 34,
   "metadata": {},
   "outputs": [
    {
     "name": "stdout",
     "output_type": "stream",
     "text": [
      "Exporting ch3_CR_4.tex\n",
      "Exporting ch3_EN_4.tex\n",
      "Exporting ch3_VU_4.tex\n"
     ]
    }
   ],
   "source": [
    "def main():\n",
    "\n",
    "    def queryCategory(redlistCat, ptype, criteria = True):\n",
    "        if criteria == True:\n",
    "            cri = ',criteria'\n",
    "        elif criteria == False:\n",
    "            cri = ''\n",
    "        QUERY_CATEGORY = '''select family||' ('||family_zh||')',name,zh_name%s\n",
    "        from twredlist2017 where category like '%s' and plant_type = %s\n",
    "        order by family,fullname;''' % (cri, redlistCat, ptype)\n",
    "        with conn:\n",
    "            with conn.cursor() as curs:\n",
    "                curs.execute(QUERY_CATEGORY)\n",
    "                catResults = curs.fetchall()\n",
    "        return(catResults)\n",
    "    \n",
    "    def writeTable(output, redlist, plantTypes, criteria = False, cols = 4):\n",
    "        align = 'l' * cols \n",
    "        if criteria == True:\n",
    "            cri = '& 評估標準'\n",
    "        elif criteria == False:\n",
    "            cri = ''\n",
    "        with open(output, 'w') as tex:\n",
    "            tex.write('\\\\noindent\\\\normalfont\\selectfont %s' % plantTypes + '\\n')\n",
    "            tex.write('\\\\footnotesize\\selectfont' + '\\n')\n",
    "            # xetex table\n",
    "            TABLE_BEGIN = '''%%\\\\begin{table}[!h]\n",
    "        \\\\begin{longtable}{p{3cm}p{5cm}p{3cm}p{4cm}}\n",
    "        \\\\toprule\n",
    "          科名 (科中名) & 分類群學名 & 分類群中名 %s \\\\\\\\\n",
    "        \\\\midrule \n",
    "        \\\\endfirsthead\n",
    "\n",
    "        {{\\\\bfseries 續前頁 }} \\\\\\\\\n",
    "        科名 (科中名) & 分類群學名 & 分類群中名 %s \\\\\\\\\n",
    "        \\\\midrule\n",
    "        \\\\endhead\n",
    "            ''' % (cri, cri)\n",
    "            TABLE_END = '''    \\\\bottomrule\n",
    "        \\\\end{longtable}\n",
    "    %%\\\\end{table}'''\n",
    "            tex.write(TABLE_BEGIN)\n",
    "            # write content\n",
    "            for item in range(len(redlist)):\n",
    "                redlist[item] = list(redlist[item])\n",
    "                SP_STEM = redlist[item][1].split(' ')\n",
    "                EPITHET = SP_STEM[1]\n",
    "                GENUS = SP_STEM[0]\n",
    "                ZH_IDX = ' \\index{%s} ' % redlist[item][]\n",
    "                \n",
    "                redlist[item][1] = g.fmtname(redlist[item][1], format_type = 'custom',\n",
    "                                        italic_b=\"\\\\textit{\", italic_e=\"}\", split= False)\n",
    "                redlist[item][1] = re.sub('&', r'\\&', redlist[item][1])\n",
    "                redlist[item][3] = re.sub('&', r'\\&', redlist[item][3])\n",
    "                \n",
    "                ### IDX\n",
    "\n",
    "                length_of_name = len(SP_STEM)\n",
    "                if length_of_name == 3:\n",
    "                    CROSS = SP_STEM[1]\n",
    "                    EPITHET = SP_STEM[2]\n",
    "                    ITEM_IDX = ''' \\index{%s@\\\\textit{%s}!%s %s@%s \\\\textit{%s}} ''' % (\n",
    "                        GENUS, GENUS, CROSS, EPITHET, CROSS, EPITHET)\n",
    "                elif length_of_name == 4:\n",
    "                    SUBRANK = SP_STEM[2]\n",
    "                    SUBEPITHET = SP_STEM[3]\n",
    "                    ITEM_IDX = ''' \\index{%s@\\\\textit{%s}!%s@\\\\textit{%s}!%s %s@%s \\\\textit{%s}} ''' % (\n",
    "                        GENUS, GENUS, EPITHET, EPITHET, SUBRANK, SUBEPITHET, SUBRANK, SUBEPITHET)\n",
    "                elif length_of_name == 5:\n",
    "                    SUBRANK = SP_STEM[2]\n",
    "                    CROSS = SP_STEM[3]\n",
    "                    SUBEPITHET = SP_STEM[4]\n",
    "                    ITEM_IDX = ''' \\index{%s@\\\\textit{%s}!%s@\\\\textit{%s}!%s %s!%s\\\\textit{%s}} ''' % (\n",
    "                        GENUS, GENUS, EPITHET, EPITHET, SUBRANK, CROSS, \\\n",
    "                                SUBEPITHET, SUBEPITHET)\n",
    "                elif length_of_name == 6:\n",
    "                    SUBRANK = SP_STEM[2]\n",
    "                    SUBRANK2 = SP_STEM[4]\n",
    "                    SUBEPITHET = SP_STEM[3]\n",
    "                    SUBEPI2 = SP_STEM[5]\n",
    "                    ITEM_IDX = ''' \\index{%s@\\\\textit{%s}!%s@\\\\textit{%s}!%s %s@%s \\\\textit{%s}!%s %s@%s \\\\textit{%s}} ''' % (\n",
    "                        GENUS, GENUS, EPITHET, EPITHET, SUBRANK, SUBEPITHET, SUBRANK, \\\n",
    "                                SUBEPITHET, SUBRANK2, SUBEPI2, SUBRANK2, SUBEPI2)\n",
    "                else:\n",
    "                    ITEM_IDX = ''' \\index{%s@\\\\textit{%s}!%s@\\\\textit{%s}} ''' % (\n",
    "                        GENUS, GENUS, EPITHET, EPITHET)\n",
    "                \n",
    "                \n",
    "                ### /IDX\n",
    "                joinedItem = ' & '.join(redlist[item]) + ITEM_IDX + ZH_IDX + '\\\\\\\\' + '\\n'\n",
    "                tex.write('    ' + joinedItem)\n",
    "            tex.write(TABLE_END)\n",
    "\n",
    "    expCatogories = ['CR', 'EN', 'VU']\n",
    "    plantTypes = ['Lycophytes 石松類植物', 'Monilophytes 蕨類植物', 'Gymnosperms 裸子植物', 'Angiosperms 被子植物']\n",
    "    for cat in range(len(expCatogories)):\n",
    "        for i in range(0, 4):\n",
    "            CAT = queryCategory(expCatogories[cat], ptype = i, criteria = True)\n",
    "            writeTable('ch3_%s_%i.tex' % (expCatogories[cat], i), CAT, plantTypes[i], criteria=True, cols = 4)\n",
    "            i = i + 1\n",
    "            print('Exporting ch3_%s_%i.tex' % (expCatogories[cat], i))\n",
    "    conn.close()\n",
    "    \n",
    "if __name__=='__main__':\n",
    "    main()"
   ]
  },
  {
   "cell_type": "code",
   "execution_count": 31,
   "metadata": {},
   "outputs": [
    {
     "data": {
      "text/plain": [
       "[('Isoëtaceae (水韭科)', 'Isoetes taiwanensis', '臺灣水韭', 'A1ace; B2ab(ii,iii)'),\n",
       " ('Selaginellaceae (卷柏科)',\n",
       "  'Selaginella nipponica',\n",
       "  '日本卷柏',\n",
       "  'B1ab(iii)+2ab(iii)')]"
      ]
     },
     "execution_count": 31,
     "metadata": {},
     "output_type": "execute_result"
    }
   ],
   "source": [
    "CAT"
   ]
  },
  {
   "cell_type": "code",
   "execution_count": 40,
   "metadata": {},
   "outputs": [
    {
     "data": {
      "text/plain": [
       "[]"
      ]
     },
     "execution_count": 40,
     "metadata": {},
     "output_type": "execute_result"
    }
   ],
   "source": [
    "CAT[]"
   ]
  },
  {
   "cell_type": "code",
   "execution_count": null,
   "metadata": {
    "collapsed": true
   },
   "outputs": [],
   "source": []
  }
 ],
 "metadata": {
  "kernelspec": {
   "display_name": "Python 3",
   "language": "python",
   "name": "python3"
  },
  "language_info": {
   "codemirror_mode": {
    "name": "ipython",
    "version": 3
   },
   "file_extension": ".py",
   "mimetype": "text/x-python",
   "name": "python",
   "nbconvert_exporter": "python",
   "pygments_lexer": "ipython3",
   "version": "3.5.2"
  }
 },
 "nbformat": 4,
 "nbformat_minor": 2
}

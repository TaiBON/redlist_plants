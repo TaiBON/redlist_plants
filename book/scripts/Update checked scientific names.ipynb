{
 "cells": [
  {
   "cell_type": "code",
   "execution_count": 2,
   "metadata": {
    "collapsed": true
   },
   "outputs": [],
   "source": [
    "import psycopg2 as pg\n",
    "import genlist_api\n",
    "import re\n",
    "import csv\n",
    "g = genlist_api.Genlist()\n",
    "# postgresql database name\n",
    "DSN = 'dbname=nvdimp user=psilotum'\n",
    "conn = pg.connect(DSN)"
   ]
  },
  {
   "cell_type": "code",
   "execution_count": 6,
   "metadata": {
    "collapsed": true
   },
   "outputs": [],
   "source": [
    "rF = []\n",
    "with open('../databases/twredlist2017_tropicos_checked.csv', 'r') as f:\n",
    "    csvreader = csv.reader(f, delimiter='|', quotechar='\"')\n",
    "    for row in csvreader:\n",
    "        rF.append(row)"
   ]
  },
  {
   "cell_type": "code",
   "execution_count": 10,
   "metadata": {},
   "outputs": [],
   "source": [
    "for r in range(1, len(rF)):\n",
    "    UPDATE_TROPICOS = '''\n",
    "    UPDATE twredlist2017 \n",
    "    SET \n",
    "        tropicos_namecode = '%s',\n",
    "        tropicos_fullname = '%s'\n",
    "    WHERE\n",
    "        id = %s;\n",
    "    ''' % ( rF[r][1], rF[r][2].replace(\"'\",\"''\"), rF[r][0] )\n",
    "    with conn:\n",
    "        with conn.cursor() as curs:\n",
    "            curs.execute(UPDATE_TROPICOS)"
   ]
  },
  {
   "cell_type": "code",
   "execution_count": null,
   "metadata": {
    "collapsed": true
   },
   "outputs": [],
   "source": []
  }
 ],
 "metadata": {
  "kernelspec": {
   "display_name": "Python 3",
   "language": "python",
   "name": "python3"
  },
  "language_info": {
   "codemirror_mode": {
    "name": "ipython",
    "version": 3
   },
   "file_extension": ".py",
   "mimetype": "text/x-python",
   "name": "python",
   "nbconvert_exporter": "python",
   "pygments_lexer": "ipython3",
   "version": "3.5.2"
  }
 },
 "nbformat": 4,
 "nbformat_minor": 2
}
